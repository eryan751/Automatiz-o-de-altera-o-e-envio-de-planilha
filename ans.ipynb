{
 "cells": [
  {
   "cell_type": "code",
   "execution_count": 24,
   "metadata": {},
   "outputs": [
    {
     "name": "stderr",
     "output_type": "stream",
     "text": [
      "<>:5: SyntaxWarning: invalid escape sequence '\\D'\n",
      "<>:5: SyntaxWarning: invalid escape sequence '\\D'\n",
      "C:\\Users\\Teste\\AppData\\Local\\Temp\\ipykernel_16248\\10034589.py:5: SyntaxWarning: invalid escape sequence '\\D'\n",
      "  dados = pd.read_excel(\"C:\\Desktop\\Enviar relatorio_auto\\Reservar 2.xlsx\", index_col=None )\n"
     ]
    }
   ],
   "source": [
    "#Gerar relatorio de faturamento e enviar por email automaticamente\n",
    "#Gerar um relatorio no formato de planilhas\n",
    "import pandas as pd\n",
    "\n",
    "dados = pd.read_excel(\"C:\\Desktop\\Enviar relatorio_auto\\Reservar 2.xlsx\", index_col=None )\n",
    "pd.set_option('display.max_columns', None)"
   ]
  },
  {
   "cell_type": "code",
   "execution_count": 25,
   "metadata": {},
   "outputs": [],
   "source": [
    "dados_utilizados = [\"Meteora\", \"Unnamed: 6\"]\n",
    "dados[dados_utilizados]\n",
    "df = dados[dados_utilizados]"
   ]
  },
  {
   "cell_type": "code",
   "execution_count": 26,
   "metadata": {},
   "outputs": [],
   "source": [
    "planil = df\n",
    "pli = pd.DataFrame(data=df)"
   ]
  },
  {
   "cell_type": "code",
   "execution_count": 27,
   "metadata": {},
   "outputs": [],
   "source": [
    "pli.to_excel('dados_finais.xlsx', index=False)"
   ]
  },
  {
   "cell_type": "markdown",
   "metadata": {},
   "source": [
    "Enviando Email"
   ]
  },
  {
   "cell_type": "code",
   "execution_count": 28,
   "metadata": {},
   "outputs": [],
   "source": [
    "import os\n",
    "import smtplib\n",
    "from email.message import EmailMessage\n",
    "from email import encoders\n",
    "from email.mime.base import MIMEBase\n",
    "from email.mime.multipart import MIMEMultipart"
   ]
  },
  {
   "cell_type": "code",
   "execution_count": 29,
   "metadata": {},
   "outputs": [],
   "source": [
    "EMAIL_ADDRESS = 'emanueler8010@gmail.com'\n",
    "#Senha gerada para este app em especifico\n",
    "EMAIL_PASSWORD = 'mjmxfiyjszawxdrr'"
   ]
  },
  {
   "cell_type": "code",
   "execution_count": 30,
   "metadata": {},
   "outputs": [],
   "source": [
    "msg = MIMEMultipart()\n",
    "msg['Subject'] = \"Fatutamento do Mês\"\n",
    "msg['From'] = 'emanueler8010@gmail.com'\n",
    "msg['To'] = 'emadevautonext@gmail.com'\n",
    "msg.attach(EmailMessage(\"Faturamento deste Mês\"))"
   ]
  },
  {
   "cell_type": "code",
   "execution_count": 31,
   "metadata": {},
   "outputs": [],
   "source": [
    "caminho_arquivo = \"dados_finais.xlsx\"\n",
    "with open(caminho_arquivo, 'rb') as arquivo:\n",
    "    parte = MIMEBase('application', 'octet-stream')\n",
    "    parte.set_payload(arquivo.read())"
   ]
  },
  {
   "cell_type": "code",
   "execution_count": 21,
   "metadata": {},
   "outputs": [],
   "source": [
    "encoders.encode_base64(parte)\n",
    "parte.add_header('Content-Disposition', f'attachment; filename=\"{os.path.basename(caminho_arquivo)}\"')\n",
    "msg.attach(parte)"
   ]
  },
  {
   "cell_type": "code",
   "execution_count": 22,
   "metadata": {},
   "outputs": [],
   "source": [
    "with smtplib.SMTP_SSL('smtp.gmail.com', 465) as smtp:\n",
    "    smtp.login(EMAIL_ADDRESS,EMAIL_PASSWORD)\n",
    "    smtp.send_message(msg)"
   ]
  },
  {
   "cell_type": "code",
   "execution_count": null,
   "metadata": {},
   "outputs": [],
   "source": []
  }
 ],
 "metadata": {
  "kernelspec": {
   "display_name": "Python 3",
   "language": "python",
   "name": "python3"
  },
  "language_info": {
   "codemirror_mode": {
    "name": "ipython",
    "version": 3
   },
   "file_extension": ".py",
   "mimetype": "text/x-python",
   "name": "python",
   "nbconvert_exporter": "python",
   "pygments_lexer": "ipython3",
   "version": "3.12.3"
  }
 },
 "nbformat": 4,
 "nbformat_minor": 2
}
